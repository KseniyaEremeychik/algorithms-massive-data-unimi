{
  "cells": [
    {
      "cell_type": "markdown",
      "metadata": {
        "id": "view-in-github",
        "colab_type": "text"
      },
      "source": [
        "<a href=\"https://colab.research.google.com/github/KseniyaEremeychik/algorithms-massive-data-unimi/blob/main/Kseniya_Yerameichyk_MBA_Exam_project.ipynb\" target=\"_parent\"><img src=\"https://colab.research.google.com/assets/colab-badge.svg\" alt=\"Open In Colab\"/></a>"
      ]
    },
    {
      "cell_type": "code",
      "execution_count": null,
      "metadata": {
        "colab": {
          "base_uri": "https://localhost:8080/",
          "height": 219
        },
        "id": "KRatmu-l6Qyj",
        "outputId": "8792a746-7f74-4d47-b437-4c3b1c8887f1"
      },
      "outputs": [
        {
          "output_type": "execute_result",
          "data": {
            "text/plain": [
              "<pyspark.sql.session.SparkSession at 0x7a846b77b310>"
            ],
            "text/html": [
              "\n",
              "            <div>\n",
              "                <p><b>SparkSession - in-memory</b></p>\n",
              "                \n",
              "        <div>\n",
              "            <p><b>SparkContext</b></p>\n",
              "\n",
              "            <p><a href=\"http://47e4c6acccbc:4040\">Spark UI</a></p>\n",
              "\n",
              "            <dl>\n",
              "              <dt>Version</dt>\n",
              "                <dd><code>v3.1.1</code></dd>\n",
              "              <dt>Master</dt>\n",
              "                <dd><code>local[*]</code></dd>\n",
              "              <dt>AppName</dt>\n",
              "                <dd><code>Market Basket Analysis</code></dd>\n",
              "            </dl>\n",
              "        </div>\n",
              "        \n",
              "            </div>\n",
              "        "
            ]
          },
          "metadata": {},
          "execution_count": 1
        }
      ],
      "source": [
        "import warnings\n",
        "warnings.filterwarnings(\"ignore\", category=DeprecationWarning)\n",
        "\n",
        "import os\n",
        "!apt-get install openjdk-8-jdk-headless -qq > /dev/null\n",
        "!wget -q http://archive.apache.org/dist/spark/spark-3.1.1/spark-3.1.1-bin-hadoop3.2.tgz\n",
        "!tar xf spark-3.1.1-bin-hadoop3.2.tgz\n",
        "!pip install -q findspark\n",
        "\n",
        "os.environ[\"JAVA_HOME\"] = \"/usr/lib/jvm/java-8-openjdk-amd64\"\n",
        "os.environ[\"SPARK_HOME\"] = \"/content/spark-3.1.1-bin-hadoop3.2\"\n",
        "\n",
        "import findspark\n",
        "findspark.init()\n",
        "from pyspark.sql import SparkSession\n",
        "spark = SparkSession.builder.master(\"local[*]\").appName('Market Basket Analysis').getOrCreate()\n",
        "spark.conf.set(\"spark.sql.repl.eagerEval.enabled\", True)\n",
        "\n",
        "spark\n",
        "import pyspark\n",
        "type(spark)\n",
        "\n",
        "spark.sparkContext.setSystemProperty('spark.executor.memory', '16g')\n",
        "sc = spark.sparkContext\n",
        "spark"
      ]
    },
    {
      "cell_type": "code",
      "execution_count": null,
      "metadata": {
        "colab": {
          "base_uri": "https://localhost:8080/"
        },
        "id": "khJ-c5hj6eGh",
        "outputId": "cde5be18-f926-4c53-cfc8-c3870f1abf40"
      },
      "outputs": [
        {
          "output_type": "stream",
          "name": "stdout",
          "text": [
            "Dataset URL: https://www.kaggle.com/datasets/asaniczka/1-3m-linkedin-jobs-and-skills-2024\n",
            "License(s): ODC Attribution License (ODC-By)\n",
            "Downloading job_skills.csv.zip to /content\n",
            " 99% 195M/197M [00:01<00:00, 160MB/s]\n",
            "100% 197M/197M [00:01<00:00, 152MB/s]\n",
            "Archive:  job_skills.csv.zip\n",
            "  inflating: job_skills.csv          \n"
          ]
        }
      ],
      "source": [
        "from google.colab import userdata\n",
        "import os\n",
        "\n",
        "os.environ['KAGGLE_USERNAME'] = userdata.get('KAGGLE_USERNAME')\n",
        "os.environ['KAGGLE_KEY'] = userdata.get('KAGGLE_KEY')\n",
        "\n",
        "!kaggle datasets download -d asaniczka/1-3m-linkedin-jobs-and-skills-2024 -f job_skills.csv\n",
        "!unzip \"job_skills.csv.zip\""
      ]
    },
    {
      "cell_type": "markdown",
      "metadata": {
        "id": "-ZH5JYMjcm3n"
      },
      "source": [
        "### **EDA**"
      ]
    },
    {
      "cell_type": "code",
      "execution_count": null,
      "metadata": {
        "colab": {
          "base_uri": "https://localhost:8080/"
        },
        "id": "Ab8kRhfV8Q9G",
        "outputId": "5b1cc456-3b0d-4012-b05d-f62e6170e3a1"
      },
      "outputs": [
        {
          "output_type": "stream",
          "name": "stdout",
          "text": [
            "+--------------------+--------------------+\n",
            "|            job_link|          job_skills|\n",
            "+--------------------+--------------------+\n",
            "|https://www.linke...|Building Custodia...|\n",
            "|https://www.linke...|Customer service,...|\n",
            "|https://www.linke...|Applied Behavior ...|\n",
            "|https://www.linke...|Electrical Engine...|\n",
            "|https://www.linke...|Electrical Assemb...|\n",
            "|https://www.linke...|Access Control, V...|\n",
            "|https://www.linke...|Consultation, Sup...|\n",
            "|https://www.linke...|Veterinary Recept...|\n",
            "|https://www.linke...|Optical Inspectio...|\n",
            "|https://www.linke...|HVAC, troubleshoo...|\n",
            "|https://www.linke...|Host/Server Assis...|\n",
            "|https://www.linke...|Apartment mainten...|\n",
            "|https://www.linke...|Fiber Optic Cable...|\n",
            "|https://www.linke...|CT Technologist, ...|\n",
            "|https://ca.linked...|SAP, DRMIS, Data ...|\n",
            "|https://www.linke...|Debt and equity o...|\n",
            "|https://ca.linked...|Biomedical Engine...|\n",
            "|https://www.linke...|Laboratory Techni...|\n",
            "|https://www.linke...|Program Managemen...|\n",
            "|https://www.linke...|Hiring, Training,...|\n",
            "+--------------------+--------------------+\n",
            "only showing top 20 rows\n",
            "\n"
          ]
        }
      ],
      "source": [
        "df = spark.read.options(header=True).csv('job_skills.csv')\n",
        "df.show()"
      ]
    },
    {
      "cell_type": "code",
      "execution_count": null,
      "metadata": {
        "colab": {
          "base_uri": "https://localhost:8080/"
        },
        "id": "AX9-Ml1o8bDJ",
        "outputId": "381a8f6d-b760-4fdd-97a4-027e3a4d4ce2"
      },
      "outputs": [
        {
          "output_type": "stream",
          "name": "stdout",
          "text": [
            "+--------------------+\n",
            "|          job_skills|\n",
            "+--------------------+\n",
            "|Building Custodia...|\n",
            "|Customer service,...|\n",
            "|Applied Behavior ...|\n",
            "|Electrical Engine...|\n",
            "|Electrical Assemb...|\n",
            "|Access Control, V...|\n",
            "|Consultation, Sup...|\n",
            "|Veterinary Recept...|\n",
            "|Optical Inspectio...|\n",
            "|HVAC, troubleshoo...|\n",
            "|Host/Server Assis...|\n",
            "|Apartment mainten...|\n",
            "|Fiber Optic Cable...|\n",
            "|CT Technologist, ...|\n",
            "|SAP, DRMIS, Data ...|\n",
            "|Debt and equity o...|\n",
            "|Biomedical Engine...|\n",
            "|Laboratory Techni...|\n",
            "|Program Managemen...|\n",
            "|Hiring, Training,...|\n",
            "+--------------------+\n",
            "only showing top 20 rows\n",
            "\n"
          ]
        }
      ],
      "source": [
        "df = df.drop(\"job_link\");\n",
        "df.show();"
      ]
    },
    {
      "cell_type": "code",
      "execution_count": null,
      "metadata": {
        "colab": {
          "base_uri": "https://localhost:8080/"
        },
        "id": "MFuXPqTsJqzS",
        "outputId": "bb4ac227-42be-41b0-ca33-07cf262af661"
      },
      "outputs": [
        {
          "output_type": "stream",
          "name": "stdout",
          "text": [
            "The initial number of rows in the dataset:  1296381\n",
            "The number of rows in the dataset after removing the missing values:  1294374\n"
          ]
        }
      ],
      "source": [
        "rows = df.count();\n",
        "print(\"The initial number of rows in the dataset: \", rows);\n",
        "\n",
        "df = df.dropna();\n",
        "rows_without_na = df.count();\n",
        "print(\"The number of rows in the dataset after removing the missing values: \", rows_without_na);"
      ]
    },
    {
      "cell_type": "code",
      "execution_count": null,
      "metadata": {
        "id": "g0J4T5Y_Kxv9",
        "colab": {
          "base_uri": "https://localhost:8080/"
        },
        "outputId": "0ff9aa8b-8e4f-4ee7-c0e5-7f8f23a9c9d8"
      },
      "outputs": [
        {
          "output_type": "stream",
          "name": "stdout",
          "text": [
            "The size of the sample:  2521\n"
          ]
        }
      ],
      "source": [
        "sample_size = 0.002;\n",
        "df_sample = df.sample(withReplacement=False, fraction=sample_size, seed=123);\n",
        "\n",
        "print(\"The size of the sample: \", df_sample.count());"
      ]
    },
    {
      "cell_type": "code",
      "execution_count": null,
      "metadata": {
        "colab": {
          "base_uri": "https://localhost:8080/"
        },
        "id": "h-LmMD96L7Rd",
        "outputId": "5430c0fd-5762-46f9-9c33-203738259b29"
      },
      "outputs": [
        {
          "output_type": "stream",
          "name": "stdout",
          "text": [
            "The number of partitions:  4\n"
          ]
        }
      ],
      "source": [
        "rdd = df_sample.rdd;\n",
        "rdd.cache();\n",
        "\n",
        "num_cores = sc.defaultParallelism\n",
        "new_num_partitions = num_cores * 2\n",
        "rdd = rdd.repartition(new_num_partitions)\n",
        "num_partitions = rdd.getNumPartitions();\n",
        "\n",
        "print(\"The number of partitions: \", num_partitions);"
      ]
    },
    {
      "cell_type": "code",
      "execution_count": null,
      "metadata": {
        "id": "HaHOmgU8P7Bb"
      },
      "outputs": [],
      "source": [
        "baskets = rdd.map(lambda row: row.job_skills.split(', '))"
      ]
    },
    {
      "cell_type": "code",
      "execution_count": null,
      "metadata": {
        "colab": {
          "base_uri": "https://localhost:8080/"
        },
        "id": "a7Jj5Mc9VI2g",
        "outputId": "f0b41ce1-8b1b-4188-e44f-f1f25c81880f"
      },
      "outputs": [
        {
          "output_type": "stream",
          "name": "stdout",
          "text": [
            "['Clinical Procedures', 'Cardiac Cath Lab', 'Imaging Catheters', 'Diagnostic', 'Atherectomy', 'Medical Devices', 'Balloon Dilatation Catheters', 'Technical Support', 'Patient Care', 'Product Troubleshooting', 'Product Training', 'Product Demonstrations', 'Customer Education', 'Case Coverage', 'Sales Support', 'Sales Goals', 'Vascular Products', 'Coronary Portfolio', 'Interventional Radiology', 'Operating Room', 'Customer Interaction', 'Bachelors Degree', 'Patient Interaction', 'Relevant Technical Certification', 'Travel']\n"
          ]
        }
      ],
      "source": [
        "print(baskets.first())"
      ]
    },
    {
      "cell_type": "code",
      "execution_count": null,
      "metadata": {
        "colab": {
          "base_uri": "https://localhost:8080/"
        },
        "id": "2gBHpCDsWd7e",
        "outputId": "385eed74-1c12-4503-b1c5-5c564f6ebeeb"
      },
      "outputs": [
        {
          "output_type": "stream",
          "name": "stdout",
          "text": [
            "The size of the biggest skills set:  144\n",
            "The size of the smallest skills set:  1\n",
            "The average size of the skills set:  21\n"
          ]
        }
      ],
      "source": [
        "size_rdd = baskets.map(lambda row: len(row))\n",
        "\n",
        "max_size = size_rdd.max()\n",
        "print(\"The size of the biggest skills set: \", max_size)\n",
        "\n",
        "min_size = size_rdd.min()\n",
        "print(\"The size of the smallest skills set: \", min_size)\n",
        "\n",
        "total_size = size_rdd.sum()\n",
        "count = size_rdd.count()\n",
        "average_size = total_size / count\n",
        "print(\"The average size of the skills set: \", round(average_size))"
      ]
    },
    {
      "cell_type": "code",
      "execution_count": null,
      "metadata": {
        "colab": {
          "base_uri": "https://localhost:8080/"
        },
        "id": "sWea1I0Cb2PQ",
        "outputId": "ae279b5a-a195-4c8a-f8d7-18b2cba5bcb2"
      },
      "outputs": [
        {
          "output_type": "stream",
          "name": "stdout",
          "text": [
            "The threshold value:  26\n"
          ]
        }
      ],
      "source": [
        "global_threshold = df.count() * 0.01;\n",
        "sample_threshold = round(global_threshold * sample_size);\n",
        "\n",
        "print(\"The threshold value: \", sample_threshold)"
      ]
    },
    {
      "cell_type": "markdown",
      "metadata": {
        "id": "XBMKCmbbc7an"
      },
      "source": [
        "### **Data Preprocessing**"
      ]
    },
    {
      "cell_type": "code",
      "execution_count": null,
      "metadata": {
        "colab": {
          "base_uri": "https://localhost:8080/"
        },
        "id": "ErdbAPAZdHxu",
        "outputId": "9f22e146-2c4d-4b67-9b38-e3cf74f5f422"
      },
      "outputs": [
        {
          "output_type": "stream",
          "name": "stdout",
          "text": [
            "The number of unique skills:  26832\n"
          ]
        }
      ],
      "source": [
        "unique_skills = baskets.flatMap(lambda x: x).distinct()\n",
        "print(\"The number of unique skills: \", unique_skills.count())"
      ]
    },
    {
      "cell_type": "code",
      "execution_count": null,
      "metadata": {
        "id": "OWjm_bHuklOQ"
      },
      "outputs": [],
      "source": [
        "skills_hash = list(enumerate(unique_skills.collect()))\n",
        "skill_to_id = {skill: id for id, skill in skills_hash}\n",
        "id_to_skill = {id: skill for id, skill in skills_hash}"
      ]
    },
    {
      "cell_type": "code",
      "execution_count": null,
      "metadata": {
        "colab": {
          "base_uri": "https://localhost:8080/"
        },
        "id": "hRqPqZEklmKO",
        "outputId": "2663da7a-73fd-45d3-e767-0b794b93f562"
      },
      "outputs": [
        {
          "output_type": "stream",
          "name": "stdout",
          "text": [
            "[('Imaging Catheters', 0), ('Technical Support', 1), ('Product Troubleshooting', 2), ('Product Training', 3), ('Product Demonstrations', 4)]\n",
            "[(0, 'Imaging Catheters'), (1, 'Technical Support'), (2, 'Product Troubleshooting'), (3, 'Product Training'), (4, 'Product Demonstrations')]\n"
          ]
        }
      ],
      "source": [
        "print(list(skill_to_id.items())[:5])\n",
        "print(list(id_to_skill.items())[:5])"
      ]
    },
    {
      "cell_type": "code",
      "execution_count": null,
      "metadata": {
        "id": "A53rU7xUnxN_"
      },
      "outputs": [],
      "source": [
        "hashed_baskets = baskets.map(lambda basket: [skill_to_id[skill] for skill in basket])"
      ]
    },
    {
      "cell_type": "code",
      "execution_count": null,
      "metadata": {
        "colab": {
          "base_uri": "https://localhost:8080/"
        },
        "id": "N3TtfUMDmugO",
        "outputId": "c7758c1a-73e6-47fd-8121-a4cd4875c2e5"
      },
      "outputs": [
        {
          "output_type": "execute_result",
          "data": {
            "text/plain": [
              "[6640, 6641, 0, 20145, 20146, 13330, 13331, 1, 13332, 2]"
            ]
          },
          "metadata": {},
          "execution_count": 45
        }
      ],
      "source": [
        "hashed_baskets.first()[:10]"
      ]
    },
    {
      "cell_type": "markdown",
      "metadata": {
        "id": "Ls5B_6DQo7HG"
      },
      "source": [
        "### **Apriori Algorithm**"
      ]
    },
    {
      "cell_type": "code",
      "execution_count": null,
      "metadata": {
        "id": "Y9qjvp7fKkyl"
      },
      "outputs": [],
      "source": [
        "from itertools import combinations"
      ]
    },
    {
      "cell_type": "code",
      "execution_count": null,
      "metadata": {
        "id": "msbgxFckpBW2"
      },
      "outputs": [],
      "source": [
        "def apriori_algorithm(baskets, support, hash_dict):\n",
        "    print(\"Finding frequent singletons ...\")\n",
        "\n",
        "    frequent_rdd = baskets.flatMap(lambda basket: [(skill, 1) for skill in basket]) \\\n",
        "                          .reduceByKey(lambda x, y: x+y) \\\n",
        "                          .filter(lambda x: x[1] > support)\n",
        "\n",
        "    frequent_rdd_count = frequent_rdd.count()\n",
        "\n",
        "    if frequent_rdd_count == 0:\n",
        "        print(\"There is no frequent singletons. Try to rerun with the lower support value\")\n",
        "        return\n",
        "\n",
        "    print(\"The amount of frequent singletons:\", frequent_rdd_count)\n",
        "\n",
        "    most_freq_singleton = frequent_rdd.max(lambda x: x[1])\n",
        "    most_freq_singleton_name = id_to_skill[most_freq_singleton[0]]\n",
        "    print(\"The most frequent singleton skill:\", most_freq_singleton_name)\n",
        "    print(\"The most frequent singleton support value:\", most_freq_singleton[1])\n",
        "    print()\n",
        "\n",
        "    frequent_set = set(frequent_rdd.map(lambda x: (x[0],)).collect())\n",
        "\n",
        "    itemset_size = 2\n",
        "    while frequent_rdd_count != 0:\n",
        "        if itemset_size == 2:\n",
        "            print(\"Finding frequent pairs ...\")\n",
        "        elif itemset_size == 3:\n",
        "            print(\"Finding frequent triplets ...\")\n",
        "        else:\n",
        "            print(\"Finding frequent itemsets of size\", itemset_size, \"...\")\n",
        "\n",
        "        frequent_rdd = baskets.flatMap(lambda basket: [(itemset, 1) for itemset in combinations(sorted(basket), itemset_size)\n",
        "                                                      if all(x in frequent_set for x in combinations(itemset, itemset_size-1))]) \\\n",
        "                              .reduceByKey(lambda x, y: x+y) \\\n",
        "                              .filter(lambda x: x[1] > support)\n",
        "\n",
        "        frequent_set = set(frequent_rdd.map(lambda x: x[0]).collect())\n",
        "        frequent_rdd_count = frequent_rdd.count();\n",
        "\n",
        "        if frequent_rdd_count == 0:\n",
        "            print(\"There are no frequent itemsets of the size\", itemset_size)\n",
        "            print(\"According to the monotonicity assumption there are no frequent itemsets of the bigger size\")\n",
        "            print()\n",
        "            break\n",
        "        else:\n",
        "            if itemset_size == 2:\n",
        "                print(\"The amount of frequent pairs:\", frequent_rdd_count)\n",
        "            elif itemset_size == 3:\n",
        "                print(\"The amount of frequent triplets:\", frequent_rdd_count)\n",
        "            else:\n",
        "                print(\"The amount of frequent itemsets of size\", itemset_size, \":\", frequent_rdd_count)\n",
        "            itemset_size += 1\n",
        "\n",
        "        most_freq_itemset = frequent_rdd.max(lambda x: x[1])\n",
        "        most_freq_itemset_names = [id_to_skill[key] for key in most_freq_itemset[0]]\n",
        "        print(\"The most frequent itemset of skills:\", \", \".join(most_freq_itemset_names))\n",
        "        print(\"The most frequent itemset support value:\", most_freq_itemset[1])\n",
        "        print()"
      ]
    },
    {
      "cell_type": "code",
      "execution_count": null,
      "metadata": {
        "colab": {
          "base_uri": "https://localhost:8080/"
        },
        "id": "04o1E2jdb88d",
        "outputId": "8e6fcc57-f0dd-4d36-91d9-d7e109cea999"
      },
      "outputs": [
        {
          "output_type": "stream",
          "name": "stdout",
          "text": [
            "Finding frequent singletons ...\n",
            "The amount of frequent singletons: 164\n",
            "The most frequent singleton skill: Communication\n",
            "The most frequent singleton support value: 714\n",
            "\n",
            "Finding frequent pairs ...\n",
            "The amount of frequent pairs: 172\n",
            "The most frequent itemset of skills: Teamwork, Communication\n",
            "The most frequent itemset support value: 252\n",
            "\n",
            "Finding frequent triplets ...\n",
            "The amount of frequent triplets: 70\n",
            "The most frequent itemset of skills: Teamwork, Communication, Leadership\n",
            "The most frequent itemset support value: 96\n",
            "\n",
            "Finding frequent itemsets of size 4 ...\n",
            "The amount of frequent itemsets of size 4 : 9\n",
            "The most frequent itemset of skills: Teamwork, Problemsolving, Communication, Customer service\n",
            "The most frequent itemset support value: 48\n",
            "\n",
            "Finding frequent itemsets of size 5 ...\n",
            "There are no frequent itemsets of the size 5\n",
            "According to the monotonicity assumption there are no frequent itemsets of the bigger size\n",
            "\n"
          ]
        }
      ],
      "source": [
        "apriori_algorithm(hashed_baskets, sample_threshold, id_to_skill)"
      ]
    },
    {
      "cell_type": "markdown",
      "source": [
        "### **Apriori Algorithm without main Soft Skills**"
      ],
      "metadata": {
        "id": "DMBNLrSYsBpl"
      }
    },
    {
      "cell_type": "code",
      "source": [
        "soft_skills_to_remove = ['Communication', 'Teamwork', 'Leadership', 'Problemsolving', 'Customer service']\n",
        "skills_to_remove_id = [skill_to_id[skill] for skill in soft_skills_to_remove]\n",
        "\n",
        "hashed_baskets_no_soft_skills = hashed_baskets.map(lambda basket: [x for x in basket if x not in skills_to_remove_id])"
      ],
      "metadata": {
        "id": "_2Ra5mr-sH8g"
      },
      "execution_count": null,
      "outputs": []
    },
    {
      "cell_type": "code",
      "source": [
        "apriori_algorithm(hashed_baskets_no_soft_skills, sample_threshold, id_to_skill)"
      ],
      "metadata": {
        "colab": {
          "base_uri": "https://localhost:8080/"
        },
        "id": "3eIiY3Q8utAQ",
        "outputId": "b84f05c9-ecad-43b8-89db-6d1cd056e70a"
      },
      "execution_count": null,
      "outputs": [
        {
          "output_type": "stream",
          "name": "stdout",
          "text": [
            "Finding frequent singletons ...\n",
            "The amount of frequent singletons: 159\n",
            "The most frequent singleton skill: Customer Service\n",
            "The most frequent singleton support value: 223\n",
            "\n",
            "Finding frequent pairs ...\n",
            "The amount of frequent pairs: 48\n",
            "The most frequent itemset of skills: Customer Service, Problem Solving\n",
            "The most frequent itemset support value: 76\n",
            "\n",
            "Finding frequent triplets ...\n",
            "The amount of frequent triplets: 1\n",
            "The most frequent itemset of skills: Customer Service, Time Management, Problem Solving\n",
            "The most frequent itemset support value: 32\n",
            "\n",
            "Finding frequent itemsets of size 4 ...\n",
            "There are no frequent itemsets of the size 4\n",
            "According to the monotonicity assumption there are no frequent itemsets of the bigger size\n",
            "\n"
          ]
        }
      ]
    },
    {
      "cell_type": "code",
      "source": [
        "soft_skills_to_remove_v2 = ['Customer Service', 'Time Management', 'Problem Solving']\n",
        "skills_to_remove_id_v2 = [skill_to_id[skill] for skill in soft_skills_to_remove_v2]\n",
        "\n",
        "hashed_baskets_no_soft_skills_v2 = hashed_baskets_no_soft_skills.map(lambda basket: [x for x in basket if x not in skills_to_remove_id_v2])"
      ],
      "metadata": {
        "id": "dtpXeYIHu9S5"
      },
      "execution_count": null,
      "outputs": []
    },
    {
      "cell_type": "code",
      "source": [
        "apriori_algorithm(hashed_baskets_no_soft_skills_v2, sample_threshold, id_to_skill)"
      ],
      "metadata": {
        "colab": {
          "base_uri": "https://localhost:8080/"
        },
        "id": "ol88P0ywvQBX",
        "outputId": "ff59ad28-c7ae-4a93-8161-468128d20e94"
      },
      "execution_count": null,
      "outputs": [
        {
          "output_type": "stream",
          "name": "stdout",
          "text": [
            "Finding frequent singletons ...\n",
            "The amount of frequent singletons: 156\n",
            "The most frequent singleton skill: Communication skills\n",
            "The most frequent singleton support value: 214\n",
            "\n",
            "Finding frequent pairs ...\n",
            "The amount of frequent pairs: 30\n",
            "The most frequent itemset of skills: Attention to detail, Time management\n",
            "The most frequent itemset support value: 50\n",
            "\n",
            "Finding frequent triplets ...\n",
            "There are no frequent itemsets of the size 3\n",
            "According to the monotonicity assumption there are no frequent itemsets of the bigger size\n",
            "\n"
          ]
        }
      ]
    },
    {
      "cell_type": "code",
      "source": [
        "soft_skills_to_remove_v3 = ['Communication skills', 'Attention to Detail', 'Time management']\n",
        "skills_to_remove_id_v3 = [skill_to_id[skill] for skill in soft_skills_to_remove_v3]\n",
        "\n",
        "hashed_baskets_no_soft_skills_v3 = hashed_baskets_no_soft_skills_v2.map(lambda basket: [x for x in basket if x not in skills_to_remove_id_v3])"
      ],
      "metadata": {
        "id": "9CKG19TIv2LY"
      },
      "execution_count": null,
      "outputs": []
    },
    {
      "cell_type": "code",
      "source": [
        "apriori_algorithm(hashed_baskets_no_soft_skills_v3, sample_threshold, id_to_skill)"
      ],
      "metadata": {
        "colab": {
          "base_uri": "https://localhost:8080/"
        },
        "id": "LBRHIqWzwNze",
        "outputId": "98a50537-50dd-43ce-ee31-5b96ebc42124"
      },
      "execution_count": null,
      "outputs": [
        {
          "output_type": "stream",
          "name": "stdout",
          "text": [
            "Finding frequent singletons ...\n",
            "The amount of frequent singletons: 153\n",
            "The most frequent singleton skill: Sales\n",
            "The most frequent singleton support value: 189\n",
            "\n",
            "Finding frequent pairs ...\n",
            "The amount of frequent pairs: 22\n",
            "The most frequent itemset of skills: Patient Care, Nursing\n",
            "The most frequent itemset support value: 49\n",
            "\n",
            "Finding frequent triplets ...\n",
            "There are no frequent itemsets of the size 3\n",
            "According to the monotonicity assumption there are no frequent itemsets of the bigger size\n",
            "\n"
          ]
        }
      ]
    },
    {
      "cell_type": "code",
      "source": [
        "no_soft_skills_threshold = round(sample_threshold * 0.7)"
      ],
      "metadata": {
        "id": "byK0xWX9A7hV"
      },
      "execution_count": null,
      "outputs": []
    },
    {
      "cell_type": "code",
      "source": [
        "apriori_algorithm(hashed_baskets_no_soft_skills_v3, no_soft_skills_threshold, id_to_skill)"
      ],
      "metadata": {
        "colab": {
          "base_uri": "https://localhost:8080/"
        },
        "id": "PiR1Hp6ZBECe",
        "outputId": "8b784111-dfe4-4a5e-9045-c647f5e73063"
      },
      "execution_count": null,
      "outputs": [
        {
          "output_type": "stream",
          "name": "stdout",
          "text": [
            "Finding frequent singletons ...\n",
            "The amount of frequent singletons: 234\n",
            "The most frequent singleton skill: Sales\n",
            "The most frequent singleton support value: 189\n",
            "\n",
            "Finding frequent pairs ...\n",
            "The amount of frequent pairs: 73\n",
            "The most frequent itemset of skills: Patient Care, Nursing\n",
            "The most frequent itemset support value: 49\n",
            "\n",
            "Finding frequent triplets ...\n",
            "The amount of frequent triplets: 6\n",
            "The most frequent itemset of skills: Walking, Lifting, Standing\n",
            "The most frequent itemset support value: 26\n",
            "\n",
            "Finding frequent itemsets of size 4 ...\n",
            "There are no frequent itemsets of the size 4\n",
            "According to the monotonicity assumption there are no frequent itemsets of the bigger size\n",
            "\n"
          ]
        }
      ]
    }
  ],
  "metadata": {
    "colab": {
      "provenance": [],
      "authorship_tag": "ABX9TyN1rUyzPGUEiwH8m06zufbr",
      "include_colab_link": true
    },
    "kernelspec": {
      "display_name": "Python 3",
      "name": "python3"
    },
    "language_info": {
      "name": "python"
    }
  },
  "nbformat": 4,
  "nbformat_minor": 0
}